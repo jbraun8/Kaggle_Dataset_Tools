{
 "cells": [
  {
   "cell_type": "code",
   "execution_count": 145,
   "metadata": {},
   "outputs": [],
   "source": [
    "import urllib.request\n",
    "import bs4\n",
    "import pandas as pd\n",
    "import numpy as np\n",
    "import pickle\n",
    "import re\n",
    "from tqdm.notebook import tqdm\n",
    "\n",
    "def get_df(url):\n",
    "    ad_url = 'https://www.letsrun.com/shoes/'\n",
    "    titles = []\n",
    "    posts = []\n",
    "    original_post = []\n",
    "    date = []\n",
    "    user_agent = 'Mozilla/5.0 (Windows; U; Windows NT 5.1; en-US; rv:1.9.0.7) Gecko/2009021910 Firefox/3.0.7'\n",
    "    headers = {'User-Agent':user_agent,} \n",
    "    request = urllib.request.Request(url,None,headers)\n",
    "    response = urllib.request.urlopen(request)\n",
    "    webpage = response.read()\n",
    "    soup = bs4.BeautifulSoup(webpage, 'html.parser')\n",
    "    body = soup.find_all(\"ul\", class_=\"forum-index-thread-list\")\n",
    "    entries = body[0].find_all('li', class_='thread')\n",
    "    for i in entries:\n",
    "        container = i.a\n",
    "        if container is not None:\n",
    "            post_url = container['href']\n",
    "            if post_url != ad_url:\n",
    "                title = container.renderContents().decode('utf-8').strip()\n",
    "                post = i.findAll('span', class_='post-count')[0].text\n",
    "                titles.append(title)\n",
    "                posts.append(post.strip(\" posts\"))\n",
    "                #request = urllib.request.Request(post_url,None,headers)\n",
    "                #response = urllib.request.urlopen(request)\n",
    "                #webpage = response.read()\n",
    "                #post_soup = bs4.BeautifulSoup(webpage, 'html.parser')\n",
    "                #print(post_soup.find_all(\"span\", id=\"intelliTXT\"))\n",
    "                #original_post.append(post_body)\n",
    "                   \n",
    "    df = pd.DataFrame(list(zip(titles, posts)), columns =['title', 'posts', ])\n",
    "    return df\n",
    "\n",
    "\n",
    "def scrape_pages(num_pages):\n",
    "    url_base = 'https://www.letsrun.com/forum?page='\n",
    "    dfs = []\n",
    "    for i in tqdm(range(num_pages)):\n",
    "        idx = i + 1\n",
    "        url = url_base + str(idx)\n",
    "        dfs.append(get_df(url))    \n",
    "    df_main = pd.concat(dfs).reset_index()\n",
    "    df_main.drop(columns=['index'], inplace=True)\n",
    "    return df_main"
   ]
  },
  {
   "cell_type": "code",
   "execution_count": null,
   "metadata": {},
   "outputs": [
    {
     "data": {
      "application/vnd.jupyter.widget-view+json": {
       "model_id": "9fb8acae7fb94d019b025bb4186640e6",
       "version_major": 2,
       "version_minor": 0
      },
      "text/plain": [
       "HBox(children=(FloatProgress(value=0.0, max=133.0), HTML(value='')))"
      ]
     },
     "metadata": {},
     "output_type": "display_data"
    }
   ],
   "source": [
    "df = scrape_pages(133)\n",
    "df.to_csv('letsrun_title_data.csv', index=False)"
   ]
  },
  {
   "cell_type": "code",
   "execution_count": 149,
   "metadata": {},
   "outputs": [
    {
     "data": {
      "text/html": [
       "<div>\n",
       "<style scoped>\n",
       "    .dataframe tbody tr th:only-of-type {\n",
       "        vertical-align: middle;\n",
       "    }\n",
       "\n",
       "    .dataframe tbody tr th {\n",
       "        vertical-align: top;\n",
       "    }\n",
       "\n",
       "    .dataframe thead th {\n",
       "        text-align: right;\n",
       "    }\n",
       "</style>\n",
       "<table border=\"1\" class=\"dataframe\">\n",
       "  <thead>\n",
       "    <tr style=\"text-align: right;\">\n",
       "      <th></th>\n",
       "      <th>title</th>\n",
       "      <th>posts</th>\n",
       "    </tr>\n",
       "  </thead>\n",
       "  <tbody>\n",
       "    <tr>\n",
       "      <th>0</th>\n",
       "      <td>AMAZON HAS HAD A BLACK LIVES BANNER UP ON THEI...</td>\n",
       "      <td>31</td>\n",
       "    </tr>\n",
       "    <tr>\n",
       "      <th>1</th>\n",
       "      <td>Official LRC President Donald J Trump Thread</td>\n",
       "      <td>98697</td>\n",
       "    </tr>\n",
       "    <tr>\n",
       "      <th>2</th>\n",
       "      <td>How does qualifying for major marathons work?</td>\n",
       "      <td>7</td>\n",
       "    </tr>\n",
       "    <tr>\n",
       "      <th>3</th>\n",
       "      <td>Can we create a separate politics/current even...</td>\n",
       "      <td>1</td>\n",
       "    </tr>\n",
       "    <tr>\n",
       "      <th>4</th>\n",
       "      <td>My church was attacked</td>\n",
       "      <td>31</td>\n",
       "    </tr>\n",
       "    <tr>\n",
       "      <th>...</th>\n",
       "      <td>...</td>\n",
       "      <td>...</td>\n",
       "    </tr>\n",
       "    <tr>\n",
       "      <th>7495</th>\n",
       "      <td>Runners unite worldwide!</td>\n",
       "      <td>2</td>\n",
       "    </tr>\n",
       "    <tr>\n",
       "      <th>7496</th>\n",
       "      <td>L. A. County is 1st in the USA with Universal ...</td>\n",
       "      <td>3</td>\n",
       "    </tr>\n",
       "    <tr>\n",
       "      <th>7497</th>\n",
       "      <td>Should law enforcement be totally seperated fr...</td>\n",
       "      <td>10</td>\n",
       "    </tr>\n",
       "    <tr>\n",
       "      <th>7498</th>\n",
       "      <td>Why is Product better Green Leaves CBD Oil tha...</td>\n",
       "      <td>1</td>\n",
       "    </tr>\n",
       "    <tr>\n",
       "      <th>7499</th>\n",
       "      <td>if Andy Powell is the Alberto Salazar of the N...</td>\n",
       "      <td>8</td>\n",
       "    </tr>\n",
       "  </tbody>\n",
       "</table>\n",
       "<p>7500 rows × 2 columns</p>\n",
       "</div>"
      ],
      "text/plain": [
       "                                                  title  posts\n",
       "0     AMAZON HAS HAD A BLACK LIVES BANNER UP ON THEI...     31\n",
       "1          Official LRC President Donald J Trump Thread  98697\n",
       "2         How does qualifying for major marathons work?      7\n",
       "3     Can we create a separate politics/current even...      1\n",
       "4                                My church was attacked     31\n",
       "...                                                 ...    ...\n",
       "7495                           Runners unite worldwide!      2\n",
       "7496  L. A. County is 1st in the USA with Universal ...      3\n",
       "7497  Should law enforcement be totally seperated fr...     10\n",
       "7498  Why is Product better Green Leaves CBD Oil tha...      1\n",
       "7499  if Andy Powell is the Alberto Salazar of the N...      8\n",
       "\n",
       "[7500 rows x 2 columns]"
      ]
     },
     "execution_count": 149,
     "metadata": {},
     "output_type": "execute_result"
    }
   ],
   "source": [
    "df"
   ]
  },
  {
   "cell_type": "code",
   "execution_count": null,
   "metadata": {},
   "outputs": [],
   "source": []
  }
 ],
 "metadata": {
  "kernelspec": {
   "display_name": "Python 3",
   "language": "python",
   "name": "python3"
  },
  "language_info": {
   "codemirror_mode": {
    "name": "ipython",
    "version": 3
   },
   "file_extension": ".py",
   "mimetype": "text/x-python",
   "name": "python",
   "nbconvert_exporter": "python",
   "pygments_lexer": "ipython3",
   "version": "3.7.6"
  }
 },
 "nbformat": 4,
 "nbformat_minor": 4
}
