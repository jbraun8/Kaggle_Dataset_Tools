{
 "cells": [
  {
   "cell_type": "code",
   "execution_count": 1,
   "metadata": {},
   "outputs": [
    {
     "name": "stdout",
     "output_type": "stream",
     "text": [
      "Requirement already satisfied: us in /opt/anaconda3/lib/python3.7/site-packages (2.0.2)\r\n",
      "Requirement already satisfied: jellyfish==0.6.1 in /opt/anaconda3/lib/python3.7/site-packages (from us) (0.6.1)\r\n"
     ]
    }
   ],
   "source": [
    "!pip install us"
   ]
  },
  {
   "cell_type": "code",
   "execution_count": 2,
   "metadata": {},
   "outputs": [],
   "source": [
    "import us\n",
    "states = us.STATES\n",
    "states_clean = []\n",
    "for state in states:\n",
    "    states_clean.append(str(state).replace(\" \", \"_\"))\n",
    "states_clean.append('Washington_DC')\n"
   ]
  },
  {
   "cell_type": "code",
   "execution_count": 26,
   "metadata": {},
   "outputs": [],
   "source": [
    "import urllib.request\n",
    "import bs4\n",
    "import pandas as pd\n",
    "import numpy as np\n",
    "import pickle\n",
    "import re\n",
    "from tqdm.notebook import tqdm\n",
    "\n",
    "site_url = 'https://www.shakeshack.com/locations/'\n",
    "\n",
    "states = []\n",
    "names = []\n",
    "addresses = []\n",
    "\n",
    "ignore_locs = ['Valley Fair, CA']\n",
    "\n",
    "\n",
    "\n",
    "user_agent = 'Mozilla/5.0 (Windows; U; Windows NT 5.1; en-US; rv:1.9.0.7) Gecko/2009021910 Firefox/3.0.7'\n",
    "headers = {'User-Agent':user_agent,} \n",
    "request = urllib.request.Request(site_url,None,headers)\n",
    "response = urllib.request.urlopen(request)\n",
    "webpage = response.read()\n",
    "soup = bs4.BeautifulSoup(webpage, 'html.parser')\n",
    "\n",
    "for state in states_clean:\n",
    "    state_tag = 'usa_' + state\n",
    "    body = soup.find(\"div\", id = state_tag)\n",
    "    if body is not None:\n",
    "        locs = body.find_all(\"div\", class_=\"span5 item\")\n",
    "        for loc in locs:\n",
    "            if loc.a.text not in ignore_locs:\n",
    "                states.append(state)\n",
    "                names.append(loc.a.text)\n",
    "                addresses.append(loc.p.text)\n",
    "\n",
    "\n",
    "\n",
    "\n",
    "df = pd.DataFrame.from_dict({'state':states, 'name':names, 'address':addresses})\n",
    "df.replace({'_': ' ', '\\n':', '}, regex=True, inplace=True)\n"
   ]
  },
  {
   "cell_type": "code",
   "execution_count": 31,
   "metadata": {},
   "outputs": [],
   "source": [
    "df.to_excel('shakeshack.xlsx', index=False)"
   ]
  },
  {
   "cell_type": "code",
   "execution_count": 19,
   "metadata": {},
   "outputs": [
    {
     "name": "stdout",
     "output_type": "stream",
     "text": [
      "Requirement already satisfied: geopy in /opt/anaconda3/lib/python3.7/site-packages (2.0.0)\n",
      "Requirement already satisfied: geographiclib<2,>=1.49 in /opt/anaconda3/lib/python3.7/site-packages (from geopy) (1.50)\n"
     ]
    },
    {
     "data": {
      "text/plain": [
       "0           NaN\n",
       "1   -111.931769\n",
       "2   -111.925908\n",
       "3    -70.425318\n",
       "4           NaN\n",
       "5           NaN\n",
       "6   -118.309809\n",
       "7           NaN\n",
       "8           NaN\n",
       "9   -118.256065\n",
       "Name: address, dtype: float64"
      ]
     },
     "execution_count": 19,
     "metadata": {},
     "output_type": "execute_result"
    }
   ],
   "source": [
    "!pip install geopy\n",
    "from  geopy.geocoders import Nominatim\n",
    "geolocator = Nominatim(user_agent = 'jeff')\n",
    "\n",
    "def get_lat_long(address, l_type):\n",
    "    loc = geolocator.geocode(address)\n",
    "    if loc is None:\n",
    "        return np.nan\n",
    "    elif l_type == 0:\n",
    "        return loc.latitude\n",
    "    else:\n",
    "        return loc.longitude\n",
    "\n",
    "df[0:10]['address'].apply(lambda x: get_lat_long(x, 0))\n",
    "df[0:10]['address'].apply(lambda x: get_lat_long(x, 1))"
   ]
  },
  {
   "cell_type": "code",
   "execution_count": 12,
   "metadata": {},
   "outputs": [],
   "source": [
    "df.replace({'\\n': ', '}, regex=True, inplace=True)"
   ]
  },
  {
   "cell_type": "code",
   "execution_count": 25,
   "metadata": {},
   "outputs": [
    {
     "data": {
      "text/html": [
       "<div>\n",
       "<style scoped>\n",
       "    .dataframe tbody tr th:only-of-type {\n",
       "        vertical-align: middle;\n",
       "    }\n",
       "\n",
       "    .dataframe tbody tr th {\n",
       "        vertical-align: top;\n",
       "    }\n",
       "\n",
       "    .dataframe thead th {\n",
       "        text-align: right;\n",
       "    }\n",
       "</style>\n",
       "<table border=\"1\" class=\"dataframe\">\n",
       "  <thead>\n",
       "    <tr style=\"text-align: right;\">\n",
       "      <th></th>\n",
       "      <th>state</th>\n",
       "      <th>name</th>\n",
       "      <th>address</th>\n",
       "      <th>latitude</th>\n",
       "    </tr>\n",
       "  </thead>\n",
       "  <tbody>\n",
       "    <tr>\n",
       "      <th>0</th>\n",
       "      <td>Alabama</td>\n",
       "      <td>Birmingham, AL</td>\n",
       "      <td>200 Summit Blvd. Suite 100, Birmingham, Alabam...</td>\n",
       "      <td>NaN</td>\n",
       "    </tr>\n",
       "    <tr>\n",
       "      <th>1</th>\n",
       "      <td>Arizona</td>\n",
       "      <td>Fashion Square, AZ</td>\n",
       "      <td>7014 E. Camelback Road</td>\n",
       "      <td>33.503068</td>\n",
       "    </tr>\n",
       "    <tr>\n",
       "      <th>2</th>\n",
       "      <td>Arizona</td>\n",
       "      <td>Kierland Commons, AZ</td>\n",
       "      <td>15030 N Scottsdale Road</td>\n",
       "      <td>33.589341</td>\n",
       "    </tr>\n",
       "    <tr>\n",
       "      <th>3</th>\n",
       "      <td>Arizona</td>\n",
       "      <td>Phoenix Uptown Plaza, AZ</td>\n",
       "      <td>100 E. Camelback Road</td>\n",
       "      <td>41.683355</td>\n",
       "    </tr>\n",
       "    <tr>\n",
       "      <th>4</th>\n",
       "      <td>Arizona</td>\n",
       "      <td>Phoenix Sky Harbor International Airport</td>\n",
       "      <td>Phoenix Sky Harbor International Airport, Term...</td>\n",
       "      <td>NaN</td>\n",
       "    </tr>\n",
       "    <tr>\n",
       "      <th>...</th>\n",
       "      <td>...</td>\n",
       "      <td>...</td>\n",
       "      <td>...</td>\n",
       "      <td>...</td>\n",
       "    </tr>\n",
       "    <tr>\n",
       "      <th>188</th>\n",
       "      <td>Washington_DC</td>\n",
       "      <td>Logan Circle, Washington, D.C.</td>\n",
       "      <td>1400 14th Street NW</td>\n",
       "      <td>38.908981</td>\n",
       "    </tr>\n",
       "    <tr>\n",
       "      <th>189</th>\n",
       "      <td>Washington_DC</td>\n",
       "      <td>Nationals Park, Washington, D.C.</td>\n",
       "      <td>1500 South Capitol Street, SE</td>\n",
       "      <td>39.932950</td>\n",
       "    </tr>\n",
       "    <tr>\n",
       "      <th>190</th>\n",
       "      <td>Washington_DC</td>\n",
       "      <td>Navy Yard, Washington, D.C.</td>\n",
       "      <td>54 M Street SE</td>\n",
       "      <td>38.876564</td>\n",
       "    </tr>\n",
       "    <tr>\n",
       "      <th>191</th>\n",
       "      <td>Washington_DC</td>\n",
       "      <td>The Wharf, Washington, D.C.</td>\n",
       "      <td>975 Wharf Street SW, Washington, D.C. 20024, 2...</td>\n",
       "      <td>NaN</td>\n",
       "    </tr>\n",
       "    <tr>\n",
       "      <th>192</th>\n",
       "      <td>Washington_DC</td>\n",
       "      <td>Union Station, Washington, D.C.</td>\n",
       "      <td>50 Massachusetts Avenue NE</td>\n",
       "      <td>38.897715</td>\n",
       "    </tr>\n",
       "  </tbody>\n",
       "</table>\n",
       "<p>193 rows × 4 columns</p>\n",
       "</div>"
      ],
      "text/plain": [
       "             state                                      name  \\\n",
       "0          Alabama                            Birmingham, AL   \n",
       "1          Arizona                        Fashion Square, AZ   \n",
       "2          Arizona                      Kierland Commons, AZ   \n",
       "3          Arizona                  Phoenix Uptown Plaza, AZ   \n",
       "4          Arizona  Phoenix Sky Harbor International Airport   \n",
       "..             ...                                       ...   \n",
       "188  Washington_DC            Logan Circle, Washington, D.C.   \n",
       "189  Washington_DC          Nationals Park, Washington, D.C.   \n",
       "190  Washington_DC               Navy Yard, Washington, D.C.   \n",
       "191  Washington_DC               The Wharf, Washington, D.C.   \n",
       "192  Washington_DC           Union Station, Washington, D.C.   \n",
       "\n",
       "                                               address   latitude  \n",
       "0    200 Summit Blvd. Suite 100, Birmingham, Alabam...        NaN  \n",
       "1                               7014 E. Camelback Road  33.503068  \n",
       "2                              15030 N Scottsdale Road  33.589341  \n",
       "3                                100 E. Camelback Road  41.683355  \n",
       "4    Phoenix Sky Harbor International Airport, Term...        NaN  \n",
       "..                                                 ...        ...  \n",
       "188                                1400 14th Street NW  38.908981  \n",
       "189                      1500 South Capitol Street, SE  39.932950  \n",
       "190                                     54 M Street SE  38.876564  \n",
       "191  975 Wharf Street SW, Washington, D.C. 20024, 2...        NaN  \n",
       "192                         50 Massachusetts Avenue NE  38.897715  \n",
       "\n",
       "[193 rows x 4 columns]"
      ]
     },
     "execution_count": 25,
     "metadata": {},
     "output_type": "execute_result"
    }
   ],
   "source": [
    "df"
   ]
  },
  {
   "cell_type": "code",
   "execution_count": null,
   "metadata": {},
   "outputs": [],
   "source": []
  }
 ],
 "metadata": {
  "kernelspec": {
   "display_name": "Python 3",
   "language": "python",
   "name": "python3"
  },
  "language_info": {
   "codemirror_mode": {
    "name": "ipython",
    "version": 3
   },
   "file_extension": ".py",
   "mimetype": "text/x-python",
   "name": "python",
   "nbconvert_exporter": "python",
   "pygments_lexer": "ipython3",
   "version": "3.7.6"
  }
 },
 "nbformat": 4,
 "nbformat_minor": 4
}
